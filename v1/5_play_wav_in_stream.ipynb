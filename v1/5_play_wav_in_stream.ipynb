{
 "cells": [
  {
   "cell_type": "code",
   "execution_count": 1,
   "metadata": {},
   "outputs": [],
   "source": [
    "import os\n",
    "import time\n",
    "import librosa\n",
    "import sounddevice as sd"
   ]
  },
  {
   "cell_type": "code",
   "execution_count": 2,
   "metadata": {},
   "outputs": [],
   "source": [
    "WAV_PATH = \"9_genres_record.wav\"\n",
    "\n",
    "SAMPLE_RATE = 22050\n",
    "PART_LEN_SEC = 5\n",
    "PART_LEN_SAMPLES = int(PART_LEN_SEC * SAMPLE_RATE)\n"
   ]
  },
  {
   "cell_type": "code",
   "execution_count": 3,
   "metadata": {},
   "outputs": [
    {
     "name": "stdout",
     "output_type": "stream",
     "text": [
      "0\n",
      "1\n",
      "2\n",
      "3\n",
      "4\n"
     ]
    }
   ],
   "source": [
    "for i in range(0, PART_LEN_SEC):\n",
    "    print(i)\n",
    "    offset = PART_LEN_SEC * i\n",
    "    signal, sr = librosa.load(WAV_PATH, offset= offset, duration=PART_LEN_SEC,  sr=SAMPLE_RATE)\n",
    "    sd.play(signal, SAMPLE_RATE)\n",
    "    time.sleep(PART_LEN_SEC)\n",
    "\n",
    "\n",
    "\n",
    "\n"
   ]
  }
 ],
 "metadata": {
  "kernelspec": {
   "display_name": "base",
   "language": "python",
   "name": "python3"
  },
  "language_info": {
   "codemirror_mode": {
    "name": "ipython",
    "version": 3
   },
   "file_extension": ".py",
   "mimetype": "text/x-python",
   "name": "python",
   "nbconvert_exporter": "python",
   "pygments_lexer": "ipython3",
   "version": "3.10.12"
  },
  "orig_nbformat": 4
 },
 "nbformat": 4,
 "nbformat_minor": 2
}
