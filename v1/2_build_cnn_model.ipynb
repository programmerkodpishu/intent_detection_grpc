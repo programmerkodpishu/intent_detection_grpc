{
 "cells": [
  {
   "cell_type": "code",
   "execution_count": 1,
   "metadata": {},
   "outputs": [
    {
     "name": "stderr",
     "output_type": "stream",
     "text": [
      "2023-08-31 20:16:45.332272: I tensorflow/core/platform/cpu_feature_guard.cc:182] This TensorFlow binary is optimized to use available CPU instructions in performance-critical operations.\n",
      "To enable the following instructions: SSE4.1 SSE4.2 AVX AVX2 FMA, in other operations, rebuild TensorFlow with the appropriate compiler flags.\n"
     ]
    }
   ],
   "source": [
    "import json\n",
    "import numpy as np\n",
    "from sklearn.model_selection import train_test_split\n",
    "import tensorflow as tf\n",
    "import tensorflow.keras as keras\n",
    "import matplotlib.pyplot as plt"
   ]
  },
  {
   "cell_type": "code",
   "execution_count": 2,
   "metadata": {},
   "outputs": [],
   "source": [
    "DATASET_PATH = \"data.json\""
   ]
  },
  {
   "cell_type": "code",
   "execution_count": 3,
   "metadata": {},
   "outputs": [],
   "source": [
    "def load_data(dataset_path):\n",
    "    with open(dataset_path, \"r\") as fp:\n",
    "        data = json.load(fp)\n",
    "    \n",
    "    # convert lists into np arrays\n",
    "    mapping = np.array(data[\"mapping\"])\n",
    "    inputs = np.array(data[\"mfcc\"])\n",
    "    targets = np.array(data[\"labels\"])\n",
    "    return mapping, inputs, targets"
   ]
  },
  {
   "cell_type": "code",
   "execution_count": 4,
   "metadata": {},
   "outputs": [],
   "source": [
    "# load data\n",
    "mapping, inputs, targets = load_data(DATASET_PATH)"
   ]
  },
  {
   "cell_type": "code",
   "execution_count": 5,
   "metadata": {},
   "outputs": [
    {
     "data": {
      "text/plain": [
       "(89991, 38, 13)"
      ]
     },
     "execution_count": 5,
     "metadata": {},
     "output_type": "execute_result"
    }
   ],
   "source": [
    "inputs.shape"
   ]
  },
  {
   "cell_type": "code",
   "execution_count": 6,
   "metadata": {},
   "outputs": [
    {
     "name": "stderr",
     "output_type": "stream",
     "text": [
      "2023-08-31 20:17:17.632583: I tensorflow/core/common_runtime/process_util.cc:146] Creating new thread pool with default inter op setting: 2. Tune using inter_op_parallelism_threads for best performance.\n"
     ]
    },
    {
     "name": "stdout",
     "output_type": "stream",
     "text": [
      "Epoch 1/70\n",
      "1969/1969 [==============================] - 216s 109ms/step - loss: 6.3878 - accuracy: 0.1145 - val_loss: 4.7406 - val_accuracy: 0.1087\n",
      "Epoch 2/70\n",
      "1969/1969 [==============================] - 205s 104ms/step - loss: 4.5689 - accuracy: 0.1148 - val_loss: 4.3521 - val_accuracy: 0.1087\n",
      "Epoch 3/70\n",
      "1969/1969 [==============================] - 213s 108ms/step - loss: 4.1147 - accuracy: 0.1132 - val_loss: 3.8490 - val_accuracy: 0.1087\n",
      "Epoch 4/70\n",
      "1969/1969 [==============================] - 199s 101ms/step - loss: 3.5631 - accuracy: 0.1125 - val_loss: 3.2661 - val_accuracy: 0.1087\n",
      "Epoch 5/70\n",
      "1969/1969 [==============================] - 190s 97ms/step - loss: 2.9939 - accuracy: 0.1122 - val_loss: 2.7425 - val_accuracy: 0.1087\n",
      "Epoch 6/70\n",
      "1969/1969 [==============================] - 206s 104ms/step - loss: 2.5584 - accuracy: 0.1121 - val_loss: 2.4102 - val_accuracy: 0.1087\n",
      "Epoch 7/70\n",
      "1969/1969 [==============================] - 205s 104ms/step - loss: 2.3278 - accuracy: 0.1123 - val_loss: 2.2696 - val_accuracy: 0.1087\n",
      "Epoch 8/70\n",
      "1969/1969 [==============================] - 194s 99ms/step - loss: 2.1948 - accuracy: 0.1600 - val_loss: 2.0522 - val_accuracy: 0.2329\n",
      "Epoch 9/70\n",
      "1969/1969 [==============================] - 210s 107ms/step - loss: 1.8998 - accuracy: 0.3008 - val_loss: 1.7192 - val_accuracy: 0.3677\n",
      "Epoch 10/70\n",
      "1969/1969 [==============================] - 214s 109ms/step - loss: 1.7367 - accuracy: 0.3730 - val_loss: 1.5809 - val_accuracy: 0.4302\n",
      "Epoch 11/70\n",
      "1969/1969 [==============================] - 209s 106ms/step - loss: 1.6494 - accuracy: 0.4174 - val_loss: 1.5252 - val_accuracy: 0.4631\n",
      "Epoch 12/70\n",
      "1969/1969 [==============================] - 203s 103ms/step - loss: 1.6002 - accuracy: 0.4400 - val_loss: 1.5053 - val_accuracy: 0.4790\n",
      "Epoch 13/70\n",
      "1969/1969 [==============================] - 206s 105ms/step - loss: 1.5650 - accuracy: 0.4550 - val_loss: 1.4667 - val_accuracy: 0.4950\n",
      "Epoch 14/70\n",
      "1969/1969 [==============================] - 204s 104ms/step - loss: 1.5407 - accuracy: 0.4629 - val_loss: 1.4294 - val_accuracy: 0.5024\n",
      "Epoch 15/70\n",
      "1969/1969 [==============================] - 213s 108ms/step - loss: 1.5214 - accuracy: 0.4747 - val_loss: 1.4361 - val_accuracy: 0.5070\n",
      "Epoch 16/70\n",
      "1969/1969 [==============================] - 196s 99ms/step - loss: 1.4999 - accuracy: 0.4857 - val_loss: 1.4267 - val_accuracy: 0.5102\n",
      "Epoch 17/70\n",
      "1969/1969 [==============================] - 215s 109ms/step - loss: 1.4901 - accuracy: 0.4903 - val_loss: 1.4066 - val_accuracy: 0.5233\n",
      "Epoch 18/70\n",
      "1969/1969 [==============================] - 217s 110ms/step - loss: 1.4784 - accuracy: 0.4953 - val_loss: 1.4130 - val_accuracy: 0.5210\n",
      "Epoch 19/70\n",
      "1969/1969 [==============================] - 209s 106ms/step - loss: 1.4692 - accuracy: 0.5009 - val_loss: 1.3791 - val_accuracy: 0.5270\n",
      "Epoch 20/70\n",
      "1969/1969 [==============================] - 225s 114ms/step - loss: 1.4535 - accuracy: 0.5053 - val_loss: 1.3785 - val_accuracy: 0.5322\n",
      "Epoch 21/70\n",
      "1969/1969 [==============================] - 202s 103ms/step - loss: 1.4492 - accuracy: 0.5108 - val_loss: 1.3747 - val_accuracy: 0.5330\n",
      "Epoch 22/70\n",
      "1969/1969 [==============================] - 207s 105ms/step - loss: 1.4419 - accuracy: 0.5152 - val_loss: 1.3637 - val_accuracy: 0.5359\n",
      "Epoch 23/70\n",
      "1969/1969 [==============================] - 195s 99ms/step - loss: 1.4353 - accuracy: 0.5174 - val_loss: 1.3552 - val_accuracy: 0.5427\n",
      "Epoch 24/70\n",
      "1969/1969 [==============================] - 204s 104ms/step - loss: 1.4237 - accuracy: 0.5204 - val_loss: 1.3508 - val_accuracy: 0.5422\n",
      "Epoch 25/70\n",
      "1969/1969 [==============================] - 196s 100ms/step - loss: 1.4245 - accuracy: 0.5250 - val_loss: 1.3566 - val_accuracy: 0.5446\n",
      "Epoch 26/70\n",
      "1969/1969 [==============================] - 199s 101ms/step - loss: 1.4137 - accuracy: 0.5280 - val_loss: 1.3515 - val_accuracy: 0.5475\n",
      "Epoch 27/70\n",
      "1969/1969 [==============================] - 193s 98ms/step - loss: 1.4099 - accuracy: 0.5308 - val_loss: 1.3556 - val_accuracy: 0.5488\n",
      "Epoch 28/70\n",
      "1969/1969 [==============================] - 195s 99ms/step - loss: 1.4063 - accuracy: 0.5303 - val_loss: 1.3447 - val_accuracy: 0.5497\n",
      "Epoch 29/70\n",
      "1969/1969 [==============================] - 194s 98ms/step - loss: 1.3986 - accuracy: 0.5359 - val_loss: 1.3398 - val_accuracy: 0.5524\n",
      "Epoch 30/70\n",
      "1969/1969 [==============================] - 203s 103ms/step - loss: 1.3922 - accuracy: 0.5383 - val_loss: 1.3340 - val_accuracy: 0.5567\n",
      "Epoch 31/70\n",
      "1969/1969 [==============================] - 201s 102ms/step - loss: 1.3901 - accuracy: 0.5402 - val_loss: 1.3253 - val_accuracy: 0.5574\n",
      "Epoch 32/70\n",
      "1969/1969 [==============================] - 206s 104ms/step - loss: 1.3848 - accuracy: 0.5447 - val_loss: 1.3283 - val_accuracy: 0.5596\n",
      "Epoch 33/70\n",
      "1969/1969 [==============================] - 200s 101ms/step - loss: 1.3858 - accuracy: 0.5440 - val_loss: 1.3423 - val_accuracy: 0.5506\n",
      "Epoch 34/70\n",
      "1969/1969 [==============================] - 177s 90ms/step - loss: 1.3780 - accuracy: 0.5467 - val_loss: 1.3262 - val_accuracy: 0.5610\n",
      "Epoch 35/70\n",
      "1969/1969 [==============================] - 195s 99ms/step - loss: 1.3767 - accuracy: 0.5485 - val_loss: 1.3200 - val_accuracy: 0.5643\n",
      "Epoch 36/70\n",
      "1969/1969 [==============================] - 187s 95ms/step - loss: 1.3741 - accuracy: 0.5487 - val_loss: 1.3317 - val_accuracy: 0.5624\n",
      "Epoch 37/70\n",
      "1969/1969 [==============================] - 207s 105ms/step - loss: 1.3711 - accuracy: 0.5520 - val_loss: 1.3259 - val_accuracy: 0.5634\n",
      "Epoch 38/70\n",
      "1969/1969 [==============================] - 193s 98ms/step - loss: 1.3686 - accuracy: 0.5550 - val_loss: 1.3317 - val_accuracy: 0.5583\n",
      "Epoch 39/70\n",
      "1969/1969 [==============================] - 202s 103ms/step - loss: 1.3637 - accuracy: 0.5571 - val_loss: 1.3283 - val_accuracy: 0.5641\n",
      "Epoch 40/70\n",
      "1969/1969 [==============================] - 208s 106ms/step - loss: 1.3601 - accuracy: 0.5570 - val_loss: 1.3477 - val_accuracy: 0.5531\n",
      "Epoch 41/70\n",
      "1969/1969 [==============================] - 198s 100ms/step - loss: 1.3616 - accuracy: 0.5561 - val_loss: 1.3376 - val_accuracy: 0.5564\n",
      "Epoch 42/70\n",
      "1969/1969 [==============================] - 202s 103ms/step - loss: 1.3538 - accuracy: 0.5621 - val_loss: 1.3241 - val_accuracy: 0.5667\n",
      "Epoch 43/70\n",
      "1969/1969 [==============================] - 222s 113ms/step - loss: 1.3557 - accuracy: 0.5588 - val_loss: 1.3132 - val_accuracy: 0.5693\n",
      "Epoch 44/70\n",
      "1969/1969 [==============================] - 200s 102ms/step - loss: 1.3534 - accuracy: 0.5620 - val_loss: 1.3214 - val_accuracy: 0.5670\n",
      "Epoch 45/70\n",
      "1969/1969 [==============================] - 191s 97ms/step - loss: 1.3492 - accuracy: 0.5655 - val_loss: 1.3026 - val_accuracy: 0.5741\n",
      "Epoch 46/70\n",
      "1969/1969 [==============================] - 177s 90ms/step - loss: 1.3486 - accuracy: 0.5654 - val_loss: 1.3340 - val_accuracy: 0.5617\n",
      "Epoch 47/70\n",
      "1969/1969 [==============================] - 170s 86ms/step - loss: 1.3445 - accuracy: 0.5662 - val_loss: 1.3204 - val_accuracy: 0.5703\n",
      "Epoch 48/70\n",
      "1969/1969 [==============================] - 176s 89ms/step - loss: 1.3465 - accuracy: 0.5661 - val_loss: 1.3214 - val_accuracy: 0.5713\n",
      "Epoch 49/70\n",
      "1969/1969 [==============================] - 180s 91ms/step - loss: 1.3441 - accuracy: 0.5690 - val_loss: 1.3104 - val_accuracy: 0.5736\n",
      "Epoch 50/70\n",
      "1969/1969 [==============================] - 184s 93ms/step - loss: 1.3376 - accuracy: 0.5704 - val_loss: 1.3303 - val_accuracy: 0.5669\n",
      "Epoch 51/70\n",
      "1969/1969 [==============================] - 176s 89ms/step - loss: 1.3390 - accuracy: 0.5710 - val_loss: 1.3024 - val_accuracy: 0.5772\n",
      "Epoch 52/70\n",
      "1969/1969 [==============================] - 179s 91ms/step - loss: 1.3361 - accuracy: 0.5715 - val_loss: 1.3151 - val_accuracy: 0.5726\n",
      "Epoch 53/70\n",
      "1969/1969 [==============================] - 178s 90ms/step - loss: 1.3373 - accuracy: 0.5731 - val_loss: 1.3037 - val_accuracy: 0.5757\n",
      "Epoch 54/70\n",
      "1969/1969 [==============================] - 198s 100ms/step - loss: 1.3325 - accuracy: 0.5752 - val_loss: 1.3012 - val_accuracy: 0.5799\n",
      "Epoch 55/70\n",
      "1969/1969 [==============================] - 163s 83ms/step - loss: 1.3309 - accuracy: 0.5731 - val_loss: 1.3152 - val_accuracy: 0.5753\n",
      "Epoch 56/70\n",
      "1969/1969 [==============================] - 154s 78ms/step - loss: 1.3278 - accuracy: 0.5763 - val_loss: 1.3199 - val_accuracy: 0.5723\n",
      "Epoch 57/70\n",
      "1969/1969 [==============================] - 133s 68ms/step - loss: 1.3230 - accuracy: 0.5804 - val_loss: 1.3081 - val_accuracy: 0.5784\n",
      "Epoch 58/70\n",
      "1969/1969 [==============================] - 171s 87ms/step - loss: 1.3214 - accuracy: 0.5789 - val_loss: 1.3250 - val_accuracy: 0.5720\n",
      "Epoch 59/70\n",
      "1969/1969 [==============================] - 203s 103ms/step - loss: 1.3230 - accuracy: 0.5783 - val_loss: 1.3040 - val_accuracy: 0.5773\n",
      "Epoch 60/70\n",
      "1969/1969 [==============================] - 174s 88ms/step - loss: 1.3190 - accuracy: 0.5824 - val_loss: 1.3105 - val_accuracy: 0.5784\n",
      "Epoch 61/70\n",
      "1969/1969 [==============================] - 176s 89ms/step - loss: 1.3176 - accuracy: 0.5830 - val_loss: 1.3051 - val_accuracy: 0.5766\n",
      "Epoch 62/70\n",
      "1969/1969 [==============================] - 200s 102ms/step - loss: 1.3183 - accuracy: 0.5798 - val_loss: 1.3324 - val_accuracy: 0.5721\n",
      "Epoch 63/70\n",
      "1969/1969 [==============================] - 209s 106ms/step - loss: 1.3180 - accuracy: 0.5835 - val_loss: 1.3127 - val_accuracy: 0.5759\n",
      "Epoch 64/70\n",
      "1969/1969 [==============================] - 203s 103ms/step - loss: 1.3179 - accuracy: 0.5843 - val_loss: 1.3160 - val_accuracy: 0.5778\n",
      "Epoch 65/70\n",
      "1969/1969 [==============================] - 195s 99ms/step - loss: 1.3160 - accuracy: 0.5831 - val_loss: 1.3018 - val_accuracy: 0.5822\n",
      "Epoch 66/70\n",
      "1969/1969 [==============================] - 181s 92ms/step - loss: 1.3158 - accuracy: 0.5864 - val_loss: 1.3030 - val_accuracy: 0.5806\n",
      "Epoch 67/70\n",
      "1969/1969 [==============================] - 203s 103ms/step - loss: 1.3129 - accuracy: 0.5862 - val_loss: 1.3161 - val_accuracy: 0.5788\n",
      "Epoch 68/70\n",
      "1969/1969 [==============================] - 166s 84ms/step - loss: 1.3099 - accuracy: 0.5838 - val_loss: 1.2958 - val_accuracy: 0.5865\n",
      "Epoch 69/70\n",
      "1969/1969 [==============================] - 186s 95ms/step - loss: 1.3105 - accuracy: 0.5852 - val_loss: 1.2965 - val_accuracy: 0.5831\n",
      "Epoch 70/70\n",
      "1969/1969 [==============================] - 196s 99ms/step - loss: 1.3083 - accuracy: 0.5880 - val_loss: 1.3257 - val_accuracy: 0.5734\n"
     ]
    }
   ],
   "source": [
    "# split data to train and test sets\n",
    "\n",
    "inputs_train, inputs_test, target_train, target_test = train_test_split(inputs, targets, test_size=0.3)\n",
    "\n",
    "\n",
    "model = keras.Sequential(\n",
    "    [\n",
    "\n",
    "        #input layer \n",
    "        keras.layers.Flatten(input_shape=(inputs.shape[1], inputs.shape[2])),\n",
    "\n",
    "\n",
    "        # 1 st hidden layer\n",
    "        keras.layers.Dense(2048, activation=\"relu\", kernel_regularizer=keras.regularizers.l2(0.001)),\n",
    "        keras.layers.Dropout(0.3),\n",
    "\n",
    "        # 2 nd hidden layer \n",
    "        keras.layers.Dense(1024, activation=\"relu\", kernel_regularizer=keras.regularizers.l2(0.001)),\n",
    "        keras.layers.Dropout(0.3),\n",
    "\n",
    "        #3d hidden layer \n",
    "        keras.layers.Dense(512, activation=\"relu\", kernel_regularizer=keras.regularizers.l2(0.001)),\n",
    "        keras.layers.Dropout(0.3),\n",
    "        \n",
    "        #3d hidden layer \n",
    "        keras.layers.Dense(256, activation=\"relu\", kernel_regularizer=keras.regularizers.l2(0.001)),\n",
    "        keras.layers.Dropout(0.3),\n",
    "\n",
    "        # 4d hidden layer\n",
    "        keras.layers.Dense(64, activation=\"relu\", kernel_regularizer=keras.regularizers.l2(0.001)),\n",
    "        keras.layers.Dropout(0.3),\n",
    "\n",
    "            # output layer\n",
    "        keras.layers.Dense(9, activation=\"softmax\")\n",
    "\n",
    "\n",
    "\n",
    "    ]\n",
    ")\n",
    "\n",
    "#compile network \n",
    "optimizer = keras.optimizers.Adam(learning_rate=0.0001)\n",
    "model.compile(\n",
    "    optimizer=optimizer,\n",
    "    loss=\"sparse_categorical_crossentropy\",\n",
    "    metrics=[\"accuracy\"]\n",
    ")\n",
    "#tf.config.threading.set_inter_op_parallelism_threads(16)\n",
    "\n",
    "history = model.fit(inputs_train, target_train, \n",
    "          validation_data=(inputs_test, target_test),\n",
    "          epochs=70, \n",
    "          batch_size=32)"
   ]
  },
  {
   "cell_type": "code",
   "execution_count": 7,
   "metadata": {},
   "outputs": [],
   "source": [
    "model.save('my_model_v2.h5')"
   ]
  },
  {
   "cell_type": "code",
   "execution_count": 8,
   "metadata": {},
   "outputs": [
    {
     "data": {
      "image/png": "[encoded data removed]",
      "text/plain": [
       "<Figure size 640x480 with 2 Axes>"
      ]
     },
     "metadata": {},
     "output_type": "display_data"
    }
   ],
   "source": [
    "def plot_history(history):\n",
    "    fig, axs = plt.subplots(2)\n",
    "\n",
    "    # create accuracy sublpot\n",
    "    axs[0].plot(history.history[\"accuracy\"], label=\"train accuracy\")\n",
    "    axs[0].plot(history.history[\"val_accuracy\"], label=\"test accuracy\")\n",
    "    axs[0].set_ylabel(\"Accuracy\")\n",
    "    axs[0].legend(loc=\"lower right\")\n",
    "    axs[0].set_title(\"Accuracy eval\")\n",
    "\n",
    "    # create error sublpot\n",
    "    axs[1].plot(history.history[\"loss\"], label=\"train error\")\n",
    "    axs[1].plot(history.history[\"val_loss\"], label=\"test error\")\n",
    "    axs[1].set_ylabel(\"Error\")\n",
    "    axs[1].set_xlabel(\"Epoch\")\n",
    "    axs[1].legend(loc=\"upper right\")\n",
    "    axs[1].set_title(\"Error eval\")\n",
    "    \n",
    "plot_history(history)"
   ]
  }
 ],
 "metadata": {
  "kernelspec": {
   "display_name": "base",
   "language": "python",
   "name": "python3"
  },
  "language_info": {
   "codemirror_mode": {
    "name": "ipython",
    "version": 3
   },
   "file_extension": ".py",
   "mimetype": "text/x-python",
   "name": "python",
   "nbconvert_exporter": "python",
   "pygments_lexer": "ipython3",
   "version": "3.10.12"
  },
  "orig_nbformat": 4
 },
 "nbformat": 4,
 "nbformat_minor": 2
}
